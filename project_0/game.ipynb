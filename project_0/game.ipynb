{
 "cells": [
  {
   "cell_type": "markdown",
   "metadata": {},
   "source": [
    "# Игра угадай число"
   ]
  },
  {
   "cell_type": "code",
   "execution_count": 1,
   "metadata": {},
   "outputs": [
    {
     "name": "stdout",
     "output_type": "stream",
     "text": [
      "Ваш алгоритм угадывает число в среднем за:4 попыток\n"
     ]
    }
   ],
   "source": [
    "\n",
    "\"\"\"Игра угадай число\n",
    "Компьютер сам загадывает и сам угадывает число \n",
    "\"\"\"\n",
    "\n",
    "import numpy as np\n",
    "\n",
    "def binary_search(first_num, end_num, number, count):\n",
    "    \"\"\"Ищем число через бинарный поиск\n",
    "\n",
    "    Args:\n",
    "        first_num (int): первое число списка с искомым значением\n",
    "        end_num (int): последнее число списка с искомым значением\n",
    "        number (int): искомое значение\n",
    "        count (int): количество итераций цикла while для поиска значения(число попыток)\n",
    "\n",
    "    Returns:\n",
    "        int: Число попыток\n",
    "    \"\"\"\n",
    "    count += 1\n",
    "    \n",
    "    while True:\n",
    "        my_result = (first_num + end_num) // 2 # находим среднее значение между началом и концом списка\n",
    "        if number == my_result:# если искомое значение найдено, возвращаем Число попыток\n",
    "            #print(my_result,count) # можно вернуть значение и число попыток\n",
    "            return count\n",
    "        if number < my_result: # если искомое значение меньше среднего, запускаем рекурсивно binary_search изменив начало и конец списка с искомым значением\n",
    "            return binary_search(first_num, my_result-1, number, count)\n",
    "         # если искомое значение больше среднего, запускаем рекурсивно binary_search изменив начало и конец списка с искомым значением\n",
    "        return binary_search(my_result+1, end_num, number, count)\n",
    "    \n",
    "    \n",
    "    \n",
    "\n",
    "def random_predict(number: int = 1) -> int:\n",
    "    \"\"\"Рандомно угадываем число\n",
    "\n",
    "    Args:\n",
    "        number (int, optional): Загаданное число. Defaults to 1.\n",
    "\n",
    "    Returns:\n",
    "        int: Число попыток\n",
    "    \"\"\"\n",
    "    count = 0\n",
    "\n",
    "    while True:\n",
    "        count += 1\n",
    "        predict_number = np.random.randint(1,101) # предполагаемое число\n",
    "        \n",
    "        if number == predict_number:\n",
    "            return count  # возвращаем Число попыток, если угадали\n",
    "        if predict_number < number:\n",
    "            result = binary_search(predict_number, number, number, count=0)\n",
    "            return result # возвращаем Число попыток бинарного поиска, если угадали \n",
    "        if predict_number > number:\n",
    "            result = binary_search(number, predict_number, number, count=0)\n",
    "            return result # возвращаем Число попыток бинарного поиска, если угадали\n",
    "       \n",
    "            \n",
    "\n",
    "\n",
    "def score_game(random_predict) -> int:\n",
    "    \"\"\"За какое количество попыток в среднем за 1000 подходов угадывает наш алгоритм\n",
    "\n",
    "    Args:\n",
    "        random_predict ([type]): функция угадывания\n",
    "\n",
    "    Returns:\n",
    "        int: среднее количество попыток\n",
    "    \"\"\"\n",
    "    count_ls = []\n",
    "    #np.random.seed(1)  # фиксируем сид для воспроизводимости\n",
    "    random_array = np.random.randint(1, 101, size=(10000))  # загадали список чисел\n",
    "\n",
    "    for number in random_array:\n",
    "        count_ls.append(random_predict(number))\n",
    "\n",
    "    score = int(np.mean(count_ls))\n",
    "    print(f\"Ваш алгоритм угадывает число в среднем за:{score} попыток\")\n",
    "    return score\n",
    "\n",
    "\n",
    "if __name__ == \"__main__\":\n",
    "    # RUN\n",
    "    score_game(random_predict)\n",
    "\n",
    "#from game_v2 import score_game\n",
    "#from game_v2 import random_predict"
   ]
  },
  {
   "cell_type": "markdown",
   "metadata": {},
   "source": [
    "## Угадываем рандомно"
   ]
  },
  {
   "cell_type": "code",
   "execution_count": 2,
   "metadata": {},
   "outputs": [
    {
     "name": "stdout",
     "output_type": "stream",
     "text": [
      "Ваш алгоритм угадывает число в среднем за:4 попыток\n"
     ]
    },
    {
     "data": {
      "text/plain": [
       "4"
      ]
     },
     "execution_count": 2,
     "metadata": {},
     "output_type": "execute_result"
    }
   ],
   "source": [
    "score_game(random_predict)"
   ]
  },
  {
   "cell_type": "code",
   "execution_count": null,
   "metadata": {},
   "outputs": [],
   "source": []
  }
 ],
 "metadata": {
  "interpreter": {
   "hash": "aee8b7b246df8f9039afb4144a1f6fd8d2ca17a180786b69acc140d282b71a49"
  },
  "kernelspec": {
   "display_name": "Python 3.10.7 64-bit",
   "language": "python",
   "name": "python3"
  },
  "language_info": {
   "codemirror_mode": {
    "name": "ipython",
    "version": 3
   },
   "file_extension": ".py",
   "mimetype": "text/x-python",
   "name": "python",
   "nbconvert_exporter": "python",
   "pygments_lexer": "ipython3",
   "version": "3.10.7"
  },
  "orig_nbformat": 4
 },
 "nbformat": 4,
 "nbformat_minor": 2
}
